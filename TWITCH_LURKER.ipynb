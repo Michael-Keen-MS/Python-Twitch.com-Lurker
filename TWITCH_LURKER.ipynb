{
 "cells": [
  {
   "cell_type": "code",
   "execution_count": 1,
   "metadata": {},
   "outputs": [
    {
     "data": {
      "text/html": [
       "<style>.container { width:100% !important; }</style>"
      ],
      "text/plain": [
       "<IPython.core.display.HTML object>"
      ]
     },
     "metadata": {},
     "output_type": "display_data"
    }
   ],
   "source": [
    "from IPython.core.display import display, HTML\n",
    "display(HTML(\"<style>.container { width:100% !important; }</style>\"))"
   ]
  },
  {
   "cell_type": "code",
   "execution_count": 1,
   "metadata": {},
   "outputs": [],
   "source": [
    "from selenium import webdriver\n",
    "from selenium.common.exceptions import InvalidSessionIdException\n",
    "from selenium.webdriver.chrome.options import Options\n",
    "import time\n",
    "from IPython.display import clear_output"
   ]
  },
  {
   "cell_type": "code",
   "execution_count": 2,
   "metadata": {},
   "outputs": [],
   "source": [
    "# LINKS = \\\n",
    "# {\n",
    "# \"PATH\":[\n",
    "# 'https://www.twitch.tv/cvrwyn',\n",
    "# 'https://www.twitch.tv/cvrwynv2',\n",
    "# 'https://www.twitch.tv/cj_rotmg',\n",
    "# 'https://www.twitch.tv/MrTBreezy',\n",
    "# 'https://www.twitch.tv/ridz16',\n",
    "# 'https://www.twitch.tv/spchlss',\n",
    "# 'https://www.twitch.tv/Plunkey_',\n",
    "# 'https://www.twitch.tv/tokyoghoul_boi20',\n",
    "# 'https://www.twitch.tv/KDdoingnumbers',\n",
    "# 'https://www.twitch.tv/SovjetPwr97',    \n",
    "# 'https://www.twitch.tv/naughtykittyy',       \n",
    "# 'https://www.twitch.tv/pengyy69',\n",
    "# 'https://www.twitch.tv/sovjetpwr97',\n",
    "# # 'https://www.twitch.tv/its_rizius',\n",
    "# 'https://www.twitch.tv/Dandudeski1',\n",
    "# 'https://www.twitch.tv/BloodlineMK',\n",
    "# 'https://www.twitch.tv/stf_sgt_bubbles',\n",
    "# 'https://www.twitch.tv/HickeySticks',\n",
    "# 'https://www.twitch.tv/RadWo1f',\n",
    "# 'https://www.twitch.tv/puhlabokz',\n",
    "# 'https://www.twitch.tv/MetaFourr',\n",
    "# 'https://www.twitch.tv/baconshirt16',\n",
    "# 'https://www.twitch.tv/boilingjaguar',\n",
    "# 'https://www.twitch.tv/kim1996x',\n",
    "# 'https://www.twitch.tv/ijumpman890i',\n",
    "# 'https://www.twitch.tv/Sarms77',\n",
    "# 'https://www.twitch.tv/Sneakynlol',\n",
    "# 'https://www.twitch.tv/warlockrational',\n",
    "# 'https://www.twitch.tv/GrumpyMonk__',\n",
    "# 'https://www.twitch.tv/GokuAus',\n",
    "# 'https://www.twitch.tv/championize',\n",
    "# 'https://www.twitch.tv/SpaceLoopTV',\n",
    "# 'https://www.twitch.tv/Zombie2472',\n",
    "# 'https://www.twitch.tv/sweedyspeedy',\n",
    "# 'https://www.twitch.tv/stryfl_',\n",
    "# 'https://www.twitch.tv/Fated2Perish',\n",
    "# 'https://www.twitch.tv/Hype_on_YT',\n",
    "# 'https://www.twitch.tv/ryujutsu',\n",
    "# 'https://www.twitch.tv/HILZSY',\n",
    "# 'https://www.twitch.tv/rasssor',\n",
    "# 'https://www.twitch.tv/iTzB0nafide',\n",
    "# 'https://www.twitch.tv/jessistreamz',\n",
    "# 'https://www.twitch.tv/CyberFreezeNOLM',\n",
    "# 'https://www.twitch.tv/SmolGobling',\n",
    "# 'https://www.twitch.tv/kentrell_youngin',\n",
    "# 'https://www.twitch.tv/ismappy',\n",
    "# 'https://www.twitch.tv/koikazo',\n",
    "# 'https://www.twitch.tv/TheDataCat',\n",
    "# 'https://www.twitch.tv/riftcity',\n",
    "# 'https://www.twitch.tv/rylanjboy',\n",
    "# 'https://www.twitch.tv/cardinalrul3'],\n",
    "# }"
   ]
  },
  {
   "cell_type": "code",
   "execution_count": 3,
   "metadata": {},
   "outputs": [],
   "source": [
    "LINKS = \\\n",
    "{\n",
    "\"PATH\":[\n",
    "'https://www.twitch.tv/keen1598'],\n",
    "}"
   ]
  },
  {
   "cell_type": "code",
   "execution_count": 4,
   "metadata": {},
   "outputs": [],
   "source": [
    "def login_first():\n",
    "    import time    \n",
    "    \n",
    "    driver.get(\"https://www.twitch.tv\")\n",
    "    driver.maximize_window()\n",
    "    time.sleep(2)\n",
    "    \n",
    "    driver.find_element_by_xpath('//*[@id=\"root\"]/div/div[2]/nav/div/div[3]/div[3]/div/div[1]/div[1]/button/div/div').click()\n",
    "    time.sleep(2)\n",
    "    \n",
    "    username = driver.find_element_by_id('login-username').send_keys('keen1598')    \n",
    "    time.sleep(2)\n",
    "    \n",
    "    password = driver.find_element_by_id('password-input').send_keys('Redhawk01!')\n",
    "    time.sleep(2)\n",
    "    \n",
    "    driver.find_element_by_xpath('/html/body/div[3]/div/div/div/div/div/div[1]/div/div/div[3]/form/div/div[3]/button/div').click()"
   ]
  },
  {
   "cell_type": "code",
   "execution_count": 9,
   "metadata": {
    "scrolled": false
   },
   "outputs": [],
   "source": [
    "def view_now(i):\n",
    "    import time\n",
    "    \n",
    "    login_first()\n",
    "    \n",
    "    for t in range(0,38):    \n",
    "        driver.get(LINKS[\"PATH\"][t])\n",
    "        \n",
    "        try:\n",
    "            driver.find_element_by_xpath('//*[@id=\"root\"]/div/div[2]/div/main/div[2]/div[3]/div/div/div[2]/div/div[2]/div/div/div/div[5]/div/div[3]/button').click()\n",
    "        except:\n",
    "            pass\n",
    "        \n",
    "        time.sleep(300)"
   ]
  },
  {
   "cell_type": "code",
   "execution_count": 10,
   "metadata": {},
   "outputs": [],
   "source": [
    "def view_now2(i):\n",
    "    import time\n",
    "        \n",
    "    for t in range(0,38):    \n",
    "        driver.get(LINKS[\"PATH\"][t])\n",
    "        \n",
    "        try:\n",
    "            driver.find_element_by_xpath('//*[@id=\"root\"]/div/div[2]/div/main/div[2]/div[3]/div/div/div[2]/div/div[2]/div/div/div/div[5]/div/div[3]/button').click()\n",
    "        except:\n",
    "            pass\n",
    "        \n",
    "        time.sleep(60)"
   ]
  },
  {
   "cell_type": "code",
   "execution_count": 7,
   "metadata": {},
   "outputs": [],
   "source": [
    "def view_now3(i):\n",
    "    import time\n",
    "    \n",
    "    for i in range(1,5000):    \n",
    "        # Using Chrome to access web\n",
    "        options = Options()\n",
    "        options.add_argument('--disable-dev-shm-usage')\n",
    "        options.add_argument(\"start-maximized\"); # open Browser in maximized mode\n",
    "        driver = webdriver.Chrome('C:\\\\chromedriver.exe',options=options)    \n",
    "        \n",
    "        driver.get(LINKS[\"PATH\"][0])\n",
    "\n",
    "        try:\n",
    "            driver.find_element_by_xpath('//*[@id=\"root\"]/div/div[2]/div/main/div[2]/div[3]/div/div/div[2]/div/div[2]/div/div/div/div[5]/div/div[3]/button').click()\n",
    "        except:\n",
    "            pass\n",
    "\n",
    "        time.sleep(60)"
   ]
  },
  {
   "cell_type": "code",
   "execution_count": 12,
   "metadata": {},
   "outputs": [
    {
     "ename": "IndexError",
     "evalue": "list index out of range",
     "output_type": "error",
     "traceback": [
      "\u001b[1;31m---------------------------------------------------------------------------\u001b[0m",
      "\u001b[1;31mIndexError\u001b[0m                                Traceback (most recent call last)",
      "\u001b[1;32m<ipython-input-12-7b3418f335fb>\u001b[0m in \u001b[0;36m<module>\u001b[1;34m\u001b[0m\n\u001b[0;32m      6\u001b[0m     \u001b[0mdriver\u001b[0m \u001b[1;33m=\u001b[0m \u001b[0mwebdriver\u001b[0m\u001b[1;33m.\u001b[0m\u001b[0mChrome\u001b[0m\u001b[1;33m(\u001b[0m\u001b[1;34m'C:\\\\chromedriver.exe'\u001b[0m\u001b[1;33m,\u001b[0m\u001b[0moptions\u001b[0m\u001b[1;33m=\u001b[0m\u001b[0moptions\u001b[0m\u001b[1;33m)\u001b[0m\u001b[1;33m\u001b[0m\u001b[1;33m\u001b[0m\u001b[0m\n\u001b[0;32m      7\u001b[0m \u001b[1;33m\u001b[0m\u001b[0m\n\u001b[1;32m----> 8\u001b[1;33m     \u001b[0mview_now\u001b[0m\u001b[1;33m(\u001b[0m\u001b[0mi\u001b[0m\u001b[1;33m)\u001b[0m\u001b[1;33m\u001b[0m\u001b[1;33m\u001b[0m\u001b[0m\n\u001b[0m",
      "\u001b[1;32m<ipython-input-9-26131da703f1>\u001b[0m in \u001b[0;36mview_now\u001b[1;34m(i)\u001b[0m\n\u001b[0;32m      5\u001b[0m \u001b[1;33m\u001b[0m\u001b[0m\n\u001b[0;32m      6\u001b[0m     \u001b[1;32mfor\u001b[0m \u001b[0mt\u001b[0m \u001b[1;32min\u001b[0m \u001b[0mrange\u001b[0m\u001b[1;33m(\u001b[0m\u001b[1;36m0\u001b[0m\u001b[1;33m,\u001b[0m\u001b[1;36m38\u001b[0m\u001b[1;33m)\u001b[0m\u001b[1;33m:\u001b[0m\u001b[1;33m\u001b[0m\u001b[1;33m\u001b[0m\u001b[0m\n\u001b[1;32m----> 7\u001b[1;33m         \u001b[0mdriver\u001b[0m\u001b[1;33m.\u001b[0m\u001b[0mget\u001b[0m\u001b[1;33m(\u001b[0m\u001b[0mLINKS\u001b[0m\u001b[1;33m[\u001b[0m\u001b[1;34m\"PATH\"\u001b[0m\u001b[1;33m]\u001b[0m\u001b[1;33m[\u001b[0m\u001b[0mt\u001b[0m\u001b[1;33m]\u001b[0m\u001b[1;33m)\u001b[0m\u001b[1;33m\u001b[0m\u001b[1;33m\u001b[0m\u001b[0m\n\u001b[0m\u001b[0;32m      8\u001b[0m \u001b[1;33m\u001b[0m\u001b[0m\n\u001b[0;32m      9\u001b[0m         \u001b[1;32mtry\u001b[0m\u001b[1;33m:\u001b[0m\u001b[1;33m\u001b[0m\u001b[1;33m\u001b[0m\u001b[0m\n",
      "\u001b[1;31mIndexError\u001b[0m: list index out of range"
     ]
    }
   ],
   "source": [
    "for i in range(1,5000):    \n",
    "    # Using Chrome to access web\n",
    "    options = Options()\n",
    "    options.add_argument('--disable-dev-shm-usage')\n",
    "    options.add_argument(\"start-maximized\"); # open Browser in maximized mode\n",
    "    driver = webdriver.Chrome('C:\\\\chromedriver.exe',options=options)\n",
    "    \n",
    "    view_now(i)"
   ]
  },
  {
   "cell_type": "code",
   "execution_count": null,
   "metadata": {},
   "outputs": [],
   "source": [
    "for i in range(1,5000):    \n",
    "    view_now2(i)"
   ]
  },
  {
   "cell_type": "code",
   "execution_count": null,
   "metadata": {},
   "outputs": [],
   "source": [
    "for i in range(1,5000):    \n",
    "    view_now3(i)"
   ]
  },
  {
   "cell_type": "code",
   "execution_count": null,
   "metadata": {},
   "outputs": [],
   "source": []
  }
 ],
 "metadata": {
  "kernelspec": {
   "display_name": "Python 3",
   "language": "python",
   "name": "python3"
  },
  "language_info": {
   "codemirror_mode": {
    "name": "ipython",
    "version": 3
   },
   "file_extension": ".py",
   "mimetype": "text/x-python",
   "name": "python",
   "nbconvert_exporter": "python",
   "pygments_lexer": "ipython3",
   "version": "3.8.5"
  }
 },
 "nbformat": 4,
 "nbformat_minor": 4
}
